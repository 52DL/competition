{
 "cells": [
  {
   "cell_type": "code",
   "execution_count": 1,
   "metadata": {
    "collapsed": true
   },
   "outputs": [],
   "source": [
    "import os\n",
    "import numpy as np \n",
    "import pandas as pd "
   ]
  },
  {
   "cell_type": "code",
   "execution_count": 2,
   "metadata": {
    "collapsed": true
   },
   "outputs": [],
   "source": [
    "feat_names = []\n",
    "#feat_names.append(\"orig+TLvgg16+Adam\")\n",
    "#feat_names.append(\"orig+TLres50\")\n",
    "feat_names.append(\"orig1+TLvgg16+Adam\")\n",
    "feat_names.append(\"orig1+TLres50\")\n",
    "\n",
    "feat_names.append(\"all+TLvgg16+Adam\")\n",
    "\n",
    "#feat_names.append(\"trans+TLvgg16+Adam\")\n",
    "#feat_names.append(\"trans+TLres50\")\n",
    "feat_names.append(\"trans1+TLvgg16+Adam\")\n",
    "feat_names.append(\"trans1+TLres50\")\n",
    "\n",
    "#feat_names.append(\"norm+TLvgg16\")\n",
    "#feat_names.append(\"norm+TLres50\")\n",
    "feat_names.append(\"norm1+TLvgg16\")\n",
    "feat_names.append(\"norm1+TLres50\")\n",
    "\n",
    "feat_names.append(\"normf1+TLvgg16\")\n",
    "feat_names.append(\"norm+lenet\")\n",
    "\n",
    "feat_names.append(\"ctt+xgb\")\n",
    "feat_names.append(\"picf+xgb\")\n",
    "feat_names.append(\"pca+lgb\")\n",
    "\n",
    "feat_names.append(\"mix+lr\")\n",
    "feat_names.append(\"mix+xgb\")\n",
    "feat_names.append(\"mix+lgb\")\n",
    "feat_names.append(\"mix+svm\")"
   ]
  },
  {
   "cell_type": "code",
   "execution_count": 3,
   "metadata": {
    "collapsed": true
   },
   "outputs": [],
   "source": [
    "train_org = pd.read_json('../../input/train.json')\n",
    "y = train_org['is_iceberg'].values"
   ]
  },
  {
   "cell_type": "code",
   "execution_count": 4,
   "metadata": {
    "collapsed": true
   },
   "outputs": [],
   "source": [
    "valids = [pd.read_csv('../../subm/'+f+'_valid.csv') for f in feat_names]\n",
    "valid = pd.merge(valids[0],valids[1] , how='left',on='id')\n",
    "for i in range(2,len(feat_names)):\n",
    "    valid = pd.merge(valid,valids[i],how='left',on='id')\n",
    "cols = ['id']+feat_names\n",
    "valid.columns = cols\n",
    "#valid['is_iceberg'] = y"
   ]
  },
  {
   "cell_type": "code",
   "execution_count": 6,
   "metadata": {
    "collapsed": false
   },
   "outputs": [],
   "source": [
    "tests = [pd.read_csv('../../subm/'+f+'_submit.csv') for f in feat_names]\n",
    "test = pd.merge(tests[0],tests[1] , how='left',on='id')\n",
    "for i in range(2,len(feat_names)):\n",
    "    test = pd.merge(test,tests[i],how='left',on='id')\n",
    "cols = ['id']+feat_names\n",
    "test.columns = cols"
   ]
  },
  {
   "cell_type": "code",
   "execution_count": 7,
   "metadata": {
    "collapsed": false
   },
   "outputs": [
    {
     "data": {
      "text/plain": [
       "(1604, 17)"
      ]
     },
     "execution_count": 7,
     "metadata": {},
     "output_type": "execute_result"
    }
   ],
   "source": [
    "valid.shape"
   ]
  },
  {
   "cell_type": "code",
   "execution_count": 8,
   "metadata": {
    "collapsed": false
   },
   "outputs": [
    {
     "data": {
      "text/plain": [
       "(8424, 17)"
      ]
     },
     "execution_count": 8,
     "metadata": {},
     "output_type": "execute_result"
    }
   ],
   "source": [
    "test.shape"
   ]
  },
  {
   "cell_type": "code",
   "execution_count": null,
   "metadata": {
    "collapsed": true
   },
   "outputs": [],
   "source": []
  }
 ],
 "metadata": {
  "kernelspec": {
   "display_name": "Python 3",
   "language": "python",
   "name": "python3"
  },
  "language_info": {
   "codemirror_mode": {
    "name": "ipython",
    "version": 3
   },
   "file_extension": ".py",
   "mimetype": "text/x-python",
   "name": "python",
   "nbconvert_exporter": "python",
   "pygments_lexer": "ipython3",
   "version": "3.6.0"
  }
 },
 "nbformat": 4,
 "nbformat_minor": 2
}
