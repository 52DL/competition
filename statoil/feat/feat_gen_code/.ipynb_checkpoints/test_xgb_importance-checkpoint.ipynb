{
 "cells": [
  {
   "cell_type": "code",
   "execution_count": 1,
   "metadata": {
    "collapsed": false
   },
   "outputs": [
    {
     "name": "stderr",
     "output_type": "stream",
     "text": [
      "/Users/afu/anaconda2/envs/ml/lib/python3.6/site-packages/sklearn/cross_validation.py:41: DeprecationWarning: This module was deprecated in version 0.18 in favor of the model_selection module into which all the refactored classes and functions are moved. Also note that the interface of the new CV iterators are different from that of this module. This module will be removed in 0.20.\n",
      "  \"This module will be removed in 0.20.\", DeprecationWarning)\n"
     ]
    }
   ],
   "source": [
    "import pandas as pd\n",
    "import numpy as np\n",
    "from multiprocessing import Pool\n",
    "from tqdm import tqdm\n",
    "import gc\n",
    "from xgboost import XGBClassifier\n",
    "from sklearn.model_selection import KFold\n",
    "from sklearn.metrics import log_loss,accuracy_score\n",
    "\n",
    "def test_id(a,b):\n",
    "    for i,j in zip(a,b):\n",
    "        if i!=j:\n",
    "            print('asdf')"
   ]
  },
  {
   "cell_type": "code",
   "execution_count": 2,
   "metadata": {
    "collapsed": true
   },
   "outputs": [],
   "source": [
    "#Load data\n",
    "train_org = pd.read_json('../../input/train.json')\n",
    "id_train = train_org['id']\n",
    "test_org = pd.read_json('../../input/test.json' )\n",
    "id_test = test_org['id']\n",
    "\n",
    "y = train_org['is_iceberg'].values"
   ]
  },
  {
   "cell_type": "code",
   "execution_count": 5,
   "metadata": {
    "collapsed": false
   },
   "outputs": [
    {
     "name": "stdout",
     "output_type": "stream",
     "text": [
      "(1604, 569)\n"
     ]
    }
   ],
   "source": [
    "picf_train = pd.read_csv('../picf_train_opted.csv')\n",
    "#print('picf:',picf_train.shape)\n",
    "picf_test = pd.read_csv('../picf_test_opted.csv')\n",
    "sbmr_train = pd.read_csv('../sbmr_train.csv')\n",
    "#print('sbmr:',sbmr_train.shape)\n",
    "sbmr_test = pd.read_csv('../sbmr_test.csv')\n",
    "pca_train = pd.read_csv('../pca_train.csv')\n",
    "#print('pca:',pca_train.shape)\n",
    "pca_test = pd.read_csv('../pca_test.csv')\n",
    "hog_train = pd.read_csv('../hog_train.csv')\n",
    "#print('hog:',hog_train.shape)\n",
    "hog_test = pd.read_csv('../hog_test.csv')\n",
    "fft_train = pd.read_csv('../fft_train.csv')\n",
    "#print('fft:',fft_train.shape)\n",
    "fft_test = pd.read_csv('../fft_test.csv')\n",
    "ir20_train = pd.read_csv('../ir20_train.csv')\n",
    "#print('ir20:',ir20_train.shape)\n",
    "ir20_test = pd.read_csv('../ir20_test.csv')\n",
    "train = pd.merge(sbmr_train, picf_train, how='left',on='id')\n",
    "#print('sbmr+picf',train.shape)\n",
    "train = pd.merge(train, pca_train, how='left',on='id')\n",
    "#print('+pca',train.shape)\n",
    "train = pd.merge(train, hog_train, how='left',on='id')\n",
    "#print('+hog',train.shape)\n",
    "train = pd.merge(train, fft_train, how='left',on='id')\n",
    "#print('+fft',train.shape)\n",
    "train = pd.merge(train, ir20_train, how='left',on='id')\n",
    "#print('+ir20',train.shape)\n",
    "#train = picf_train\n",
    "test_id(id_train, train['id'])\n",
    "\n",
    "#train = pca_train\n",
    "#train['inc_angle'] = pca_train['inc_angle']\n",
    "train['inc_angle'] = train_org['inc_angle'].replace('na', -1).astype(float)\n",
    "#print(train.info())\n",
    "print(train.shape)"
   ]
  },
  {
   "cell_type": "code",
   "execution_count": 6,
   "metadata": {
    "collapsed": false
   },
   "outputs": [
    {
     "name": "stdout",
     "output_type": "stream",
     "text": [
      "(8424, 569)\n"
     ]
    }
   ],
   "source": [
    "test = pd.merge(sbmr_test, picf_test,how='left',on='id')\n",
    "#print('sbmr+picf',test.shape)\n",
    "test = pd.merge(test, pca_test, how='left',on='id')\n",
    "#print('+pca',test.shape)\n",
    "test = pd.merge(test, hog_test, how='left',on='id')\n",
    "#print('+hog',test.shape)\n",
    "test = pd.merge(test, fft_test, how='left',on='id')\n",
    "#print('+fft',test.shape)\n",
    "test = pd.merge(test, ir20_test, how='left',on='id')\n",
    "#print('+ir20',test.shape)\n",
    "#train = pd.merge(train, hog_train, how='left',on='id')\n",
    "#test = pd.merge(test, hog_test,how='left',on='id')\n",
    "test_id(id_test, test['id'])\n",
    "#test = picf_test\n",
    "#test = pca_test\n",
    "#test['inc_angle'] = pca_test['inc_angle']\n",
    "test['inc_angle'] = test_org['inc_angle'].replace('na', 0).astype(float)\n",
    "print(test.shape)"
   ]
  },
  {
   "cell_type": "code",
   "execution_count": 7,
   "metadata": {
    "collapsed": true
   },
   "outputs": [],
   "source": [
    "log_model = XGBClassifier(\n",
    "                        n_estimators=2000,\n",
    "                        max_depth=5,\n",
    "                        objective=\"binary:logistic\",\n",
    "                        learning_rate=0.01,\n",
    "                        subsample=1,\n",
    "                        min_child_weight=1,\n",
    "                        colsample_bytree=1,\n",
    "                        scale_pos_weight=1,\n",
    "                        gamma=0,\n",
    "                        reg_alpha=0,\n",
    "                        reg_lambda=1,\n",
    "                     )"
   ]
  },
  {
   "cell_type": "code",
   "execution_count": 11,
   "metadata": {
    "collapsed": true
   },
   "outputs": [],
   "source": [
    "train = train.drop('id',axis=1)"
   ]
  },
  {
   "cell_type": "code",
   "execution_count": 19,
   "metadata": {
    "collapsed": true
   },
   "outputs": [],
   "source": [
    "def get_xgb_imp(xgb, feat_names):\n",
    "    from numpy import array\n",
    "    imp_vals = xgb.booster().get_fscore()\n",
    "    print(imp_vals)\n",
    "    imp_dict = {feat_names[i]:float(imp_vals.get('f'+str(i),0.)) for i in range(len(feat_names))}\n",
    "    total = array(imp_dict.values()).sum()\n",
    "    print(total)\n",
    "    return {k:v/total for k,v in imp_dict.items()}"
   ]
  },
  {
   "cell_type": "code",
   "execution_count": 16,
   "metadata": {
    "collapsed": false
   },
   "outputs": [
    {
     "name": "stdout",
     "output_type": "stream",
     "text": [
      "0.006674987461\n"
     ]
    },
    {
     "ename": "TypeError",
     "evalue": "unsupported operand type(s) for /: 'float' and 'dict_values'",
     "output_type": "error",
     "traceback": [
      "\u001b[0;31m---------------------------------------------------------------------------\u001b[0m",
      "\u001b[0;31mTypeError\u001b[0m                                 Traceback (most recent call last)",
      "\u001b[0;32m<ipython-input-16-3c156f433ef2>\u001b[0m in \u001b[0;36m<module>\u001b[0;34m()\u001b[0m\n\u001b[1;32m      2\u001b[0m \u001b[0mpred\u001b[0m \u001b[0;34m=\u001b[0m \u001b[0mfit_model\u001b[0m\u001b[0;34m.\u001b[0m\u001b[0mpredict_proba\u001b[0m\u001b[0;34m(\u001b[0m\u001b[0mtrain\u001b[0m\u001b[0;34m)\u001b[0m\u001b[0;34m[\u001b[0m\u001b[0;34m:\u001b[0m\u001b[0;34m,\u001b[0m\u001b[0;36m1\u001b[0m\u001b[0;34m]\u001b[0m\u001b[0;34m\u001b[0m\u001b[0m\n\u001b[1;32m      3\u001b[0m \u001b[0mprint\u001b[0m\u001b[0;34m(\u001b[0m\u001b[0mlog_loss\u001b[0m\u001b[0;34m(\u001b[0m\u001b[0my\u001b[0m\u001b[0;34m,\u001b[0m\u001b[0mpred\u001b[0m\u001b[0;34m)\u001b[0m\u001b[0;34m)\u001b[0m\u001b[0;34m\u001b[0m\u001b[0m\n\u001b[0;32m----> 4\u001b[0;31m \u001b[0mimpt\u001b[0m \u001b[0;34m=\u001b[0m \u001b[0mget_xgb_imp\u001b[0m\u001b[0;34m(\u001b[0m\u001b[0mfit_model\u001b[0m\u001b[0;34m,\u001b[0m \u001b[0mtrain\u001b[0m\u001b[0;34m.\u001b[0m\u001b[0mcolumns\u001b[0m\u001b[0;34m)\u001b[0m\u001b[0;34m\u001b[0m\u001b[0m\n\u001b[0m\u001b[1;32m      5\u001b[0m \u001b[0mprint\u001b[0m\u001b[0;34m(\u001b[0m\u001b[0mimpt\u001b[0m\u001b[0;34m)\u001b[0m\u001b[0;34m\u001b[0m\u001b[0m\n",
      "\u001b[0;32m<ipython-input-14-d08864d2d95d>\u001b[0m in \u001b[0;36mget_xgb_imp\u001b[0;34m(xgb, feat_names)\u001b[0m\n\u001b[1;32m      4\u001b[0m     \u001b[0mimp_dict\u001b[0m \u001b[0;34m=\u001b[0m \u001b[0;34m{\u001b[0m\u001b[0mfeat_names\u001b[0m\u001b[0;34m[\u001b[0m\u001b[0mi\u001b[0m\u001b[0;34m]\u001b[0m\u001b[0;34m:\u001b[0m\u001b[0mfloat\u001b[0m\u001b[0;34m(\u001b[0m\u001b[0mimp_vals\u001b[0m\u001b[0;34m.\u001b[0m\u001b[0mget\u001b[0m\u001b[0;34m(\u001b[0m\u001b[0;34m'f'\u001b[0m\u001b[0;34m+\u001b[0m\u001b[0mstr\u001b[0m\u001b[0;34m(\u001b[0m\u001b[0mi\u001b[0m\u001b[0;34m)\u001b[0m\u001b[0;34m,\u001b[0m\u001b[0;36m0.\u001b[0m\u001b[0;34m)\u001b[0m\u001b[0;34m)\u001b[0m \u001b[0;32mfor\u001b[0m \u001b[0mi\u001b[0m \u001b[0;32min\u001b[0m \u001b[0mrange\u001b[0m\u001b[0;34m(\u001b[0m\u001b[0mlen\u001b[0m\u001b[0;34m(\u001b[0m\u001b[0mfeat_names\u001b[0m\u001b[0;34m)\u001b[0m\u001b[0;34m)\u001b[0m\u001b[0;34m}\u001b[0m\u001b[0;34m\u001b[0m\u001b[0m\n\u001b[1;32m      5\u001b[0m     \u001b[0mtotal\u001b[0m \u001b[0;34m=\u001b[0m \u001b[0marray\u001b[0m\u001b[0;34m(\u001b[0m\u001b[0mimp_dict\u001b[0m\u001b[0;34m.\u001b[0m\u001b[0mvalues\u001b[0m\u001b[0;34m(\u001b[0m\u001b[0;34m)\u001b[0m\u001b[0;34m)\u001b[0m\u001b[0;34m.\u001b[0m\u001b[0msum\u001b[0m\u001b[0;34m(\u001b[0m\u001b[0;34m)\u001b[0m\u001b[0;34m\u001b[0m\u001b[0m\n\u001b[0;32m----> 6\u001b[0;31m     \u001b[0;32mreturn\u001b[0m \u001b[0;34m{\u001b[0m\u001b[0mk\u001b[0m\u001b[0;34m:\u001b[0m\u001b[0mv\u001b[0m\u001b[0;34m/\u001b[0m\u001b[0mtotal\u001b[0m \u001b[0;32mfor\u001b[0m \u001b[0mk\u001b[0m\u001b[0;34m,\u001b[0m\u001b[0mv\u001b[0m \u001b[0;32min\u001b[0m \u001b[0mimp_dict\u001b[0m\u001b[0;34m.\u001b[0m\u001b[0mitems\u001b[0m\u001b[0;34m(\u001b[0m\u001b[0;34m)\u001b[0m\u001b[0;34m}\u001b[0m\u001b[0;34m\u001b[0m\u001b[0m\n\u001b[0m",
      "\u001b[0;32m<ipython-input-14-d08864d2d95d>\u001b[0m in \u001b[0;36m<dictcomp>\u001b[0;34m(.0)\u001b[0m\n\u001b[1;32m      4\u001b[0m     \u001b[0mimp_dict\u001b[0m \u001b[0;34m=\u001b[0m \u001b[0;34m{\u001b[0m\u001b[0mfeat_names\u001b[0m\u001b[0;34m[\u001b[0m\u001b[0mi\u001b[0m\u001b[0;34m]\u001b[0m\u001b[0;34m:\u001b[0m\u001b[0mfloat\u001b[0m\u001b[0;34m(\u001b[0m\u001b[0mimp_vals\u001b[0m\u001b[0;34m.\u001b[0m\u001b[0mget\u001b[0m\u001b[0;34m(\u001b[0m\u001b[0;34m'f'\u001b[0m\u001b[0;34m+\u001b[0m\u001b[0mstr\u001b[0m\u001b[0;34m(\u001b[0m\u001b[0mi\u001b[0m\u001b[0;34m)\u001b[0m\u001b[0;34m,\u001b[0m\u001b[0;36m0.\u001b[0m\u001b[0;34m)\u001b[0m\u001b[0;34m)\u001b[0m \u001b[0;32mfor\u001b[0m \u001b[0mi\u001b[0m \u001b[0;32min\u001b[0m \u001b[0mrange\u001b[0m\u001b[0;34m(\u001b[0m\u001b[0mlen\u001b[0m\u001b[0;34m(\u001b[0m\u001b[0mfeat_names\u001b[0m\u001b[0;34m)\u001b[0m\u001b[0;34m)\u001b[0m\u001b[0;34m}\u001b[0m\u001b[0;34m\u001b[0m\u001b[0m\n\u001b[1;32m      5\u001b[0m     \u001b[0mtotal\u001b[0m \u001b[0;34m=\u001b[0m \u001b[0marray\u001b[0m\u001b[0;34m(\u001b[0m\u001b[0mimp_dict\u001b[0m\u001b[0;34m.\u001b[0m\u001b[0mvalues\u001b[0m\u001b[0;34m(\u001b[0m\u001b[0;34m)\u001b[0m\u001b[0;34m)\u001b[0m\u001b[0;34m.\u001b[0m\u001b[0msum\u001b[0m\u001b[0;34m(\u001b[0m\u001b[0;34m)\u001b[0m\u001b[0;34m\u001b[0m\u001b[0m\n\u001b[0;32m----> 6\u001b[0;31m     \u001b[0;32mreturn\u001b[0m \u001b[0;34m{\u001b[0m\u001b[0mk\u001b[0m\u001b[0;34m:\u001b[0m\u001b[0mv\u001b[0m\u001b[0;34m/\u001b[0m\u001b[0mtotal\u001b[0m \u001b[0;32mfor\u001b[0m \u001b[0mk\u001b[0m\u001b[0;34m,\u001b[0m\u001b[0mv\u001b[0m \u001b[0;32min\u001b[0m \u001b[0mimp_dict\u001b[0m\u001b[0;34m.\u001b[0m\u001b[0mitems\u001b[0m\u001b[0;34m(\u001b[0m\u001b[0;34m)\u001b[0m\u001b[0;34m}\u001b[0m\u001b[0;34m\u001b[0m\u001b[0m\n\u001b[0m",
      "\u001b[0;31mTypeError\u001b[0m: unsupported operand type(s) for /: 'float' and 'dict_values'"
     ]
    }
   ],
   "source": [
    "fit_model = log_model.fit(train,y)\n",
    "pred = fit_model.predict_proba(train)[:,1]\n",
    "print(log_loss(y,pred))\n"
   ]
  },
  {
   "cell_type": "code",
   "execution_count": 20,
   "metadata": {
    "collapsed": false
   },
   "outputs": [
    {
     "name": "stdout",
     "output_type": "stream",
     "text": [
      "{'92': 146, '229': 311, 'inc_angle': 1017, '133': 94, '39': 33, 'pca_150': 67, 'pca_153': 575, '141': 208, 'pca_93': 19, 'pca_14': 51, 'hog_0': 28, 'ir_3': 109, 'pca_151': 134, 's2': 798, '96': 23, '211': 158, '81': 30, '140': 220, '29': 44, '217': 69, 'pca_186': 13, 'pca_157': 46, '67': 24, '148': 22, 'pca_65': 68, 'pca_199': 145, '233': 111, 'pca_188': 14, 'pca_182': 54, 'pca_6': 166, 'pca_155': 51, '32': 255, 'hog_32': 102, '9': 45, '156': 62, '46': 270, '35': 206, '93': 17, '79': 16, '38': 328, 'pca_103': 49, '179': 271, 'pca_63': 31, '24': 92, '166': 24, 'pca_133': 13, 'hog_63': 4, '84': 24, 'pca_1': 101, 'hog_37': 6, 'pca_3': 86, '158': 107, '151': 9, '74': 26, 'hog_6': 14, '14': 22, 'pca_38': 20, '226': 21, 'hog_45': 19, '139': 75, '82': 100, '97': 626, 'band3_max': 80, 'pca_164': 97, 'hog_1': 4, '8': 99, 'hog_50': 21, '11': 28, '150': 212, 'pca_7': 74, 'hog_26': 1, '27': 14, '12': 10, '164': 113, 'ir_6': 47, '168': 59, 'pca_147': 36, '33': 274, '49': 25, '138': 96, 'pca_91': 28, '182': 9, 'pca_104': 39, 'hog_3': 49, 'pca_36': 36, '62': 16, 'pca_10': 57, 'pca_117': 83, '161': 30, 'hog_11': 81, '167': 41, 'pca_13': 51, 'pca_123': 116, '160': 64, '242': 59, '228': 222, 'hog_19': 11, '76': 16, '98': 59, 'hog_54': 46, 'pca_4': 141, 'pca_138': 11, 'pca_102': 28, '1': 57, 'hog_29': 13, '5': 23, 'pca_178': 80, 'hog_25': 6, 'pca_101': 181, '143': 19, 'hog_40': 90, 'ir_9': 88, '222': 29, 'pca_143': 6, '88': 30, 'pca_55': 162, 'hog_62': 3, '28': 51, '99': 280, 'band4_min': 84, 'ir_8': 86, 'pca_9': 43, 'fft_band_2_mih': 40, 'ir_4': 7, '22': 41, 'hog_16': 56, 'hog_12': 12, 'hog_28': 55, 'ir_2': 15, 'hog_9': 27, 'pca_115': 95, 'hog_46': 26, 'pca_44': 19, '78': 29, 'pca_145': 164, 'pca_142': 8, 'pca_25': 68, 'ir_14': 234, '68': 101, 'vol': 4, 'hog_55': 32, 'pca_33': 27, 'hog_59': 16, '237': 44, 'hog_53': 2, 'pca_67': 16, 'pca_152': 87, 'hog_15': 7, 'pca_57': 35, 'pca_48': 69, 'pca_5': 93, 'pca_111': 55, 'pca_175': 83, 'hog_23': 82, 'hog_33': 13, 'hog_58': 2, 'pca_109': 75, 'pca_11': 36, '4': 35, 'hog_56': 6, '23': 14, 'pca_189': 27, 'band3_min': 42, 'pca_174': 17, 'ir_0': 133, 'pca_74': 12, '159': 56, '15': 15, '194': 95, 'hog_57': 28, '114': 7, '106': 13, '218': 90, 'pca_124': 85, 'pca_190': 27, '111': 24, 'ir_18': 2, 'pca_126': 89, 'pca_154': 70, '203': 9, 'pca_29': 47, 'pca_140': 27, '19': 19, 'pca_176': 14, 'pca_118': 104, 'pca_73': 129, 'pca_170': 48, 'pca_72': 139, '214': 90, '180': 51, 'pca_156': 38, 'pca_198': 14, 'fft_band_1_sizev': 73, 'ir_1': 27, '7': 13, 'pca_107': 123, 'hog_60': 18, '199': 38, 'pca_31': 31, '26': 6, '232': 141, 'hog_24': 31, 'hog_14': 28, 'pca_100': 39, '34': 61, 'band4_med': 27, 'hog_34': 10, 'pca_58': 122, '219': 37, 'pca_51': 66, 'pca_68': 46, 'hog_5': 29, 'pca_180': 48, 'fft_band_2_miv': 20, 'pca_62': 83, 'pca_2': 45, 'pca_54': 34, 'pca_183': 13, 'pca_23': 110, 'pca_8': 95, 'pca_114': 42, '71': 8, 'fft_band_1_sizeh': 34, 'pca_108': 209, '90': 48, 'pca_96': 196, 'pca_95': 85, 'band4_max': 36, 'hog_61': 5, 'fft_band_2_mxv': 111, 'pca_163': 33, '137': 18, '100': 47, 'pca_84': 15, 'pca_137': 17, 'pca_28': 37, 'pca_193': 43, 'pca_90': 11, 'pca_158': 88, '207': 28, '21': 30, 'fft_band_2_mxh': 30, 'pca_171': 60, '154': 73, 'pca_139': 23, 'fft_band_1_mih': 68, 'pca_146': 67, 'fft_band_1_miv': 36, '47': 31, '103': 46, 'hog_52': 31, 'pca_185': 43, '227': 53, '104': 8, '170': 107, 'pca_60': 63, '165': 21, 'band3_med': 41, 'pca_59': 89, '75': 86, 'pca_112': 85, 'pca_15': 74, '101': 123, 'pca_0': 21, 'pca_105': 127, 'pca_135': 40, 'pca_169': 6, '113': 70, 'pca_42': 62, 'pca_160': 82, '30': 31, 'pca_18': 43, '142': 34, 'ir_10': 13, '146': 9, 'pca_116': 15, 'pca_141': 20, 'hog_20': 3, 'pca_161': 20, '18': 56, 'fft_band_1_mxv': 13, '73': 13, '134': 11, 'pca_75': 17, '36': 15, '86': 4, 'pca_113': 114, '105': 9, '197': 20, 'pca_192': 57, 'hog_2': 23, '169': 37, '153': 33, '157': 2, 'hog_39': 74, 'ir_16': 42, 'pca_166': 120, '95': 33, 'pca_181': 17, 'pca_34': 9, 'pca_94': 49, '48': 37, 'pca_86': 71, 'hog_36': 42, 'fft_band_2_mnh': 9, 'pca_187': 31, 'pca_82': 33, '238': 20, '206': 15, '163': 275, '144': 19, 'pca_184': 32, 'pca_12': 20, 'pca_120': 57, '87': 27, 'pca_144': 103, 'pca_110': 52, 'hog_51': 4, 'ir_15': 36, 'pca_129': 35, '215': 28, '6': 17, 'pca_172': 43, 'pca_131': 88, 'pca_165': 8, '181': 1, 'ir_12': 23, '145': 5, 'pca_127': 18, '94': 6, '25': 8, 'fft_band_1_mxh': 20, 'pca_69': 33, 'hog_13': 15, '213': 3, 'hog_10': 50, '89': 14, '216': 21, 'pca_87': 15, 'pca_83': 23, 'pca_49': 19, 'ir_19': 35, 'hog_49': 36, '31': 15, 'pca_76': 66, 'pca_77': 8, 'hog_8': 4, '195': 120, 'pca_45': 61, 'pca_128': 48, 'pca_17': 73, '80': 36, 'pca_119': 8, 'pca_99': 14, 'pca_195': 56, 'hog_35': 10, 'pca_37': 92, 'pca_125': 76, 'ir_13': 6, 'pca_134': 22, 'pca_16': 27, 'pca_191': 21, 'pca_52': 128, 'pca_159': 59, '129': 19, '178': 102, '115': 3, '221': 24, 'ir_17': 45, 'hog_48': 59, 'pca_149': 35, 'pca_35': 17, '50': 8, '102': 10, 'pca_162': 27, 'pca_121': 9, 'pca_32': 23, 'pca_19': 9, '0': 3, 'pca_194': 18, 'pca_80': 67, 'pca_64': 4, 'pca_168': 14, '20': 132, '155': 44, '209': 11, '208': 21, 'hog_42': 15, 'ir_7': 12, 'pca_88': 33, 'pca_179': 26, 'pca_20': 18, '10': 34, '72': 45, 'hog_17': 21, 'pca_56': 45, 'pca_40': 108, 'fft_band_1_mnv': 19, 'pca_98': 28, '17': 21, 'pca_21': 28, '149': 10, 'pca_26': 29, 'pca_85': 17, 'pca_61': 20, '205': 32, '136': 51, '202': 6, '177': 19, 'pca_106': 65, 'pca_196': 42, 'pca_136': 33, 'fft_band_2_mnv': 14, '45': 12, '200': 65, '13': 11, 'ir_5': 31, 'hog_18': 5, 'pca_46': 79, '83': 5, 'pca_177': 34, '40': 11, 'pca_24': 51, '198': 9, 'pca_66': 34, 'pca_81': 26, 'pca_89': 5, 'pca_97': 10, 'pca_79': 14, 'pca_43': 25, 'hog_22': 3, 'hog_47': 11, '225': 6, '147': 17, '70': 22, 'pca_39': 61, '44': 5, '85': 13, '2': 6, '172': 11, 'hog_31': 12, 'hog_43': 65, '230': 21, 'pca_197': 22, 'pca_122': 34, 'pca_92': 57, 'band4_mea': 19, 'pca_30': 23, 'pca_41': 8, '171': 26, '69': 8, '3': 5, '204': 2, 'pca_22': 24, 'hog_4': 19, 'pca_70': 19, '16': 12, 'fft_band_2_sizeh': 2, '210': 15, '77': 10, '91': 2, 'pca_47': 29, 'hog_27': 2, 'pca_27': 6, '37': 20, 'pca_173': 17, 'fft_band_1_mnh': 11, 'pca_50': 5, '220': 7, '128': 4, '110': 17, 'pca_132': 17, 'ir_11': 8, 'pca_130': 11, '63': 4, 'pca_148': 5, 'pca_53': 5, '224': 8, 'pca_71': 14, 'hog_30': 2, 'hog_44': 30, 'hog_21': 18, 'hog_7': 14, 'hog_41': 6, '131': 49, 'pca_78': 6, '109': 23, '176': 3, '112': 4, '135': 4, '223': 6, '243': 3, '212': 2, 'pca_167': 1}\n",
      "dict_values([0.0, 0.0, 0.0, 0.0, 0.0, 0.0, 0.0, 0.0, 0.0, 0.0, 0.0, 0.0, 0.0, 0.0, 0.0, 0.0, 0.0, 0.0, 0.0, 0.0, 0.0, 0.0, 0.0, 0.0, 0.0, 0.0, 0.0, 0.0, 0.0, 0.0, 0.0, 0.0, 0.0, 0.0, 0.0, 0.0, 0.0, 0.0, 0.0, 0.0, 0.0, 0.0, 0.0, 0.0, 0.0, 0.0, 0.0, 0.0, 0.0, 0.0, 0.0, 0.0, 0.0, 0.0, 0.0, 0.0, 0.0, 0.0, 0.0, 0.0, 0.0, 0.0, 0.0, 0.0, 0.0, 0.0, 0.0, 0.0, 0.0, 0.0, 0.0, 0.0, 0.0, 0.0, 0.0, 0.0, 0.0, 0.0, 0.0, 0.0, 0.0, 0.0, 0.0, 0.0, 0.0, 0.0, 0.0, 0.0, 0.0, 0.0, 0.0, 0.0, 0.0, 0.0, 0.0, 0.0, 0.0, 0.0, 0.0, 0.0, 0.0, 0.0, 0.0, 0.0, 0.0, 0.0, 0.0, 0.0, 0.0, 0.0, 0.0, 0.0, 0.0, 0.0, 0.0, 0.0, 0.0, 0.0, 0.0, 0.0, 0.0, 0.0, 0.0, 0.0, 0.0, 0.0, 0.0, 0.0, 0.0, 0.0, 0.0, 0.0, 0.0, 0.0, 0.0, 0.0, 0.0, 0.0, 0.0, 0.0, 0.0, 0.0, 0.0, 0.0, 0.0, 0.0, 0.0, 0.0, 0.0, 0.0, 0.0, 0.0, 0.0, 0.0, 0.0, 0.0, 0.0, 0.0, 0.0, 0.0, 0.0, 0.0, 0.0, 0.0, 0.0, 0.0, 0.0, 0.0, 0.0, 0.0, 0.0, 0.0, 0.0, 0.0, 0.0, 0.0, 0.0, 0.0, 0.0, 0.0, 0.0, 0.0, 0.0, 0.0, 0.0, 0.0, 0.0, 0.0, 0.0, 0.0, 0.0, 0.0, 0.0, 0.0, 0.0, 0.0, 0.0, 0.0, 0.0, 0.0, 0.0, 0.0, 0.0, 0.0, 0.0, 0.0, 0.0, 0.0, 0.0, 0.0, 0.0, 0.0, 0.0, 0.0, 0.0, 0.0, 0.0, 0.0, 0.0, 0.0, 0.0, 0.0, 0.0, 0.0, 0.0, 0.0, 0.0, 0.0, 0.0, 0.0, 0.0, 0.0, 0.0, 0.0, 0.0, 0.0, 0.0, 0.0, 0.0, 0.0, 0.0, 0.0, 0.0, 0.0, 0.0, 0.0, 0.0, 0.0, 0.0, 0.0, 0.0, 0.0, 0.0, 0.0, 0.0, 0.0, 0.0, 0.0, 0.0, 0.0, 0.0, 0.0, 0.0, 0.0, 0.0, 0.0, 0.0, 0.0, 0.0, 0.0, 0.0, 0.0, 0.0, 0.0, 0.0, 0.0, 0.0, 0.0, 0.0, 0.0, 0.0, 0.0, 0.0, 0.0, 0.0, 0.0, 0.0, 0.0, 0.0, 0.0, 0.0, 0.0, 0.0, 0.0, 0.0, 0.0, 0.0, 0.0, 0.0, 0.0, 0.0, 0.0, 0.0, 0.0, 0.0, 0.0, 0.0, 0.0, 0.0, 0.0, 0.0, 0.0, 0.0, 0.0, 0.0, 0.0, 0.0, 0.0, 0.0, 0.0, 0.0, 0.0, 0.0, 0.0, 0.0, 0.0, 0.0, 0.0, 0.0, 0.0, 0.0, 0.0, 0.0, 0.0, 0.0, 0.0, 0.0, 0.0, 0.0, 0.0, 0.0, 0.0, 0.0, 0.0, 0.0, 0.0, 0.0, 0.0, 0.0, 0.0, 0.0, 0.0, 0.0, 0.0, 0.0, 0.0, 0.0, 0.0, 0.0, 0.0, 0.0, 0.0, 0.0, 0.0, 0.0, 0.0, 0.0, 0.0, 0.0, 0.0, 0.0, 0.0, 0.0, 0.0, 0.0, 0.0, 0.0, 0.0, 0.0, 0.0, 0.0, 0.0, 0.0, 0.0, 0.0, 0.0, 0.0, 0.0, 0.0, 0.0, 0.0, 0.0, 0.0, 0.0, 0.0, 0.0, 0.0, 0.0, 0.0, 0.0, 0.0, 0.0, 0.0, 0.0, 0.0, 0.0, 0.0, 0.0, 0.0, 0.0, 0.0, 0.0, 0.0, 0.0, 0.0, 0.0, 0.0, 0.0, 0.0, 0.0, 0.0, 0.0, 0.0, 0.0, 0.0, 0.0, 0.0, 0.0, 0.0, 0.0, 0.0, 0.0, 0.0, 0.0, 0.0, 0.0, 0.0, 0.0, 0.0, 0.0, 0.0, 0.0, 0.0, 0.0, 0.0, 0.0, 0.0, 0.0, 0.0, 0.0, 0.0, 0.0, 0.0, 0.0, 0.0, 0.0, 0.0, 0.0, 0.0, 0.0, 0.0, 0.0, 0.0, 0.0, 0.0, 0.0, 0.0, 0.0, 0.0, 0.0, 0.0, 0.0, 0.0, 0.0, 0.0, 0.0, 0.0, 0.0, 0.0, 0.0, 0.0, 0.0, 0.0, 0.0, 0.0, 0.0, 0.0, 0.0, 0.0, 0.0, 0.0, 0.0, 0.0, 0.0, 0.0, 0.0, 0.0, 0.0, 0.0, 0.0, 0.0, 0.0, 0.0, 0.0, 0.0, 0.0, 0.0, 0.0, 0.0, 0.0, 0.0, 0.0, 0.0, 0.0, 0.0, 0.0, 0.0, 0.0, 0.0, 0.0, 0.0, 0.0, 0.0, 0.0, 0.0, 0.0, 0.0, 0.0, 0.0, 0.0, 0.0, 0.0, 0.0, 0.0, 0.0, 0.0, 0.0, 0.0, 0.0, 0.0, 0.0, 0.0, 0.0, 0.0, 0.0, 0.0, 0.0, 0.0, 0.0, 0.0, 0.0, 0.0, 0.0, 0.0, 0.0, 0.0, 0.0, 0.0, 0.0, 0.0, 0.0, 0.0, 0.0, 0.0, 0.0, 0.0, 0.0, 0.0])\n"
     ]
    },
    {
     "ename": "TypeError",
     "evalue": "unsupported operand type(s) for /: 'float' and 'dict_values'",
     "output_type": "error",
     "traceback": [
      "\u001b[0;31m---------------------------------------------------------------------------\u001b[0m",
      "\u001b[0;31mTypeError\u001b[0m                                 Traceback (most recent call last)",
      "\u001b[0;32m<ipython-input-20-28f6c42a0dc2>\u001b[0m in \u001b[0;36m<module>\u001b[0;34m()\u001b[0m\n\u001b[0;32m----> 1\u001b[0;31m \u001b[0mimpt\u001b[0m \u001b[0;34m=\u001b[0m \u001b[0mget_xgb_imp\u001b[0m\u001b[0;34m(\u001b[0m\u001b[0mfit_model\u001b[0m\u001b[0;34m,\u001b[0m \u001b[0mtrain\u001b[0m\u001b[0;34m.\u001b[0m\u001b[0mcolumns\u001b[0m\u001b[0;34m)\u001b[0m\u001b[0;34m\u001b[0m\u001b[0m\n\u001b[0m\u001b[1;32m      2\u001b[0m \u001b[0mprint\u001b[0m\u001b[0;34m(\u001b[0m\u001b[0mimpt\u001b[0m\u001b[0;34m)\u001b[0m\u001b[0;34m\u001b[0m\u001b[0m\n",
      "\u001b[0;32m<ipython-input-19-2352e2334e63>\u001b[0m in \u001b[0;36mget_xgb_imp\u001b[0;34m(xgb, feat_names)\u001b[0m\n\u001b[1;32m      6\u001b[0m     \u001b[0mtotal\u001b[0m \u001b[0;34m=\u001b[0m \u001b[0marray\u001b[0m\u001b[0;34m(\u001b[0m\u001b[0mimp_dict\u001b[0m\u001b[0;34m.\u001b[0m\u001b[0mvalues\u001b[0m\u001b[0;34m(\u001b[0m\u001b[0;34m)\u001b[0m\u001b[0;34m)\u001b[0m\u001b[0;34m.\u001b[0m\u001b[0msum\u001b[0m\u001b[0;34m(\u001b[0m\u001b[0;34m)\u001b[0m\u001b[0;34m\u001b[0m\u001b[0m\n\u001b[1;32m      7\u001b[0m     \u001b[0mprint\u001b[0m\u001b[0;34m(\u001b[0m\u001b[0mtotal\u001b[0m\u001b[0;34m)\u001b[0m\u001b[0;34m\u001b[0m\u001b[0m\n\u001b[0;32m----> 8\u001b[0;31m     \u001b[0;32mreturn\u001b[0m \u001b[0;34m{\u001b[0m\u001b[0mk\u001b[0m\u001b[0;34m:\u001b[0m\u001b[0mv\u001b[0m\u001b[0;34m/\u001b[0m\u001b[0mtotal\u001b[0m \u001b[0;32mfor\u001b[0m \u001b[0mk\u001b[0m\u001b[0;34m,\u001b[0m\u001b[0mv\u001b[0m \u001b[0;32min\u001b[0m \u001b[0mimp_dict\u001b[0m\u001b[0;34m.\u001b[0m\u001b[0mitems\u001b[0m\u001b[0;34m(\u001b[0m\u001b[0;34m)\u001b[0m\u001b[0;34m}\u001b[0m\u001b[0;34m\u001b[0m\u001b[0m\n\u001b[0m",
      "\u001b[0;32m<ipython-input-19-2352e2334e63>\u001b[0m in \u001b[0;36m<dictcomp>\u001b[0;34m(.0)\u001b[0m\n\u001b[1;32m      6\u001b[0m     \u001b[0mtotal\u001b[0m \u001b[0;34m=\u001b[0m \u001b[0marray\u001b[0m\u001b[0;34m(\u001b[0m\u001b[0mimp_dict\u001b[0m\u001b[0;34m.\u001b[0m\u001b[0mvalues\u001b[0m\u001b[0;34m(\u001b[0m\u001b[0;34m)\u001b[0m\u001b[0;34m)\u001b[0m\u001b[0;34m.\u001b[0m\u001b[0msum\u001b[0m\u001b[0;34m(\u001b[0m\u001b[0;34m)\u001b[0m\u001b[0;34m\u001b[0m\u001b[0m\n\u001b[1;32m      7\u001b[0m     \u001b[0mprint\u001b[0m\u001b[0;34m(\u001b[0m\u001b[0mtotal\u001b[0m\u001b[0;34m)\u001b[0m\u001b[0;34m\u001b[0m\u001b[0m\n\u001b[0;32m----> 8\u001b[0;31m     \u001b[0;32mreturn\u001b[0m \u001b[0;34m{\u001b[0m\u001b[0mk\u001b[0m\u001b[0;34m:\u001b[0m\u001b[0mv\u001b[0m\u001b[0;34m/\u001b[0m\u001b[0mtotal\u001b[0m \u001b[0;32mfor\u001b[0m \u001b[0mk\u001b[0m\u001b[0;34m,\u001b[0m\u001b[0mv\u001b[0m \u001b[0;32min\u001b[0m \u001b[0mimp_dict\u001b[0m\u001b[0;34m.\u001b[0m\u001b[0mitems\u001b[0m\u001b[0;34m(\u001b[0m\u001b[0;34m)\u001b[0m\u001b[0;34m}\u001b[0m\u001b[0;34m\u001b[0m\u001b[0m\n\u001b[0m",
      "\u001b[0;31mTypeError\u001b[0m: unsupported operand type(s) for /: 'float' and 'dict_values'"
     ]
    }
   ],
   "source": [
    "impt = get_xgb_imp(fit_model, train.columns)\n",
    "print(impt)"
   ]
  },
  {
   "cell_type": "code",
   "execution_count": 24,
   "metadata": {
    "collapsed": true
   },
   "outputs": [],
   "source": [
    "a = [3,1,2,3]"
   ]
  },
  {
   "cell_type": "code",
   "execution_count": 25,
   "metadata": {
    "collapsed": false
   },
   "outputs": [
    {
     "data": {
      "text/plain": [
       "1"
      ]
     },
     "execution_count": 25,
     "metadata": {},
     "output_type": "execute_result"
    }
   ],
   "source": [
    "a.index(min(a))"
   ]
  },
  {
   "cell_type": "code",
   "execution_count": null,
   "metadata": {
    "collapsed": true
   },
   "outputs": [],
   "source": []
  }
 ],
 "metadata": {
  "kernelspec": {
   "display_name": "Python 3",
   "language": "python",
   "name": "python3"
  },
  "language_info": {
   "codemirror_mode": {
    "name": "ipython",
    "version": 3
   },
   "file_extension": ".py",
   "mimetype": "text/x-python",
   "name": "python",
   "nbconvert_exporter": "python",
   "pygments_lexer": "ipython3",
   "version": "3.6.0"
  }
 },
 "nbformat": 4,
 "nbformat_minor": 2
}
